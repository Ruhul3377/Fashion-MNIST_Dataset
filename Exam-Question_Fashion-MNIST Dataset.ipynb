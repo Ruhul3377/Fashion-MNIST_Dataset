{
 "cells": [
  {
   "cell_type": "code",
   "execution_count": 2,
   "id": "0d3c474c",
   "metadata": {
    "execution": {
     "iopub.execute_input": "2023-01-28T18:12:34.636880Z",
     "iopub.status.busy": "2023-01-28T18:12:34.636082Z",
     "iopub.status.idle": "2023-01-28T18:12:43.771552Z",
     "shell.execute_reply": "2023-01-28T18:12:43.769643Z"
    },
    "papermill": {
     "duration": 9.141256,
     "end_time": "2023-01-28T18:12:43.773939",
     "exception": false,
     "start_time": "2023-01-28T18:12:34.632683",
     "status": "completed"
    },
    "tags": []
   },
   "outputs": [
    {
     "name": "stdout",
     "output_type": "stream",
     "text": [
      "Downloading data from https://storage.googleapis.com/tensorflow/tf-keras-datasets/train-labels-idx1-ubyte.gz\n",
      "32768/29515 [=================================] - 0s 0us/step\n",
      "40960/29515 [=========================================] - 0s 0us/step\n",
      "Downloading data from https://storage.googleapis.com/tensorflow/tf-keras-datasets/train-images-idx3-ubyte.gz\n",
      "26427392/26421880 [==============================] - 0s 0us/step\n",
      "26435584/26421880 [==============================] - 0s 0us/step\n",
      "Downloading data from https://storage.googleapis.com/tensorflow/tf-keras-datasets/t10k-labels-idx1-ubyte.gz\n",
      "16384/5148 [===============================================================================================] - 0s 0us/step\n",
      "Downloading data from https://storage.googleapis.com/tensorflow/tf-keras-datasets/t10k-images-idx3-ubyte.gz\n",
      "4423680/4422102 [==============================] - 0s 0us/step\n",
      "4431872/4422102 [==============================] - 0s 0us/step\n",
      "Training Dataset Shape: (60000, 28, 28, 1)\n",
      "No. of Training Dataset Labels: 60000\n",
      "Test Dataset Shape: (10000, 28, 28, 1)\n",
      "No. of Test Dataset Labels: 10000\n"
     ]
    },
    {
     "name": "stderr",
     "output_type": "stream",
     "text": [
      "2023-01-28 18:12:41.074874: I tensorflow/stream_executor/cuda/cuda_gpu_executor.cc:937] successful NUMA node read from SysFS had negative value (-1), but there must be at least one NUMA node, so returning NUMA node zero\n",
      "2023-01-28 18:12:41.170868: I tensorflow/stream_executor/cuda/cuda_gpu_executor.cc:937] successful NUMA node read from SysFS had negative value (-1), but there must be at least one NUMA node, so returning NUMA node zero\n",
      "2023-01-28 18:12:41.171784: I tensorflow/stream_executor/cuda/cuda_gpu_executor.cc:937] successful NUMA node read from SysFS had negative value (-1), but there must be at least one NUMA node, so returning NUMA node zero\n",
      "2023-01-28 18:12:41.174550: I tensorflow/core/platform/cpu_feature_guard.cc:142] This TensorFlow binary is optimized with oneAPI Deep Neural Network Library (oneDNN) to use the following CPU instructions in performance-critical operations:  AVX2 AVX512F FMA\n",
      "To enable them in other operations, rebuild TensorFlow with the appropriate compiler flags.\n",
      "2023-01-28 18:12:41.174928: I tensorflow/stream_executor/cuda/cuda_gpu_executor.cc:937] successful NUMA node read from SysFS had negative value (-1), but there must be at least one NUMA node, so returning NUMA node zero\n",
      "2023-01-28 18:12:41.175858: I tensorflow/stream_executor/cuda/cuda_gpu_executor.cc:937] successful NUMA node read from SysFS had negative value (-1), but there must be at least one NUMA node, so returning NUMA node zero\n",
      "2023-01-28 18:12:41.176711: I tensorflow/stream_executor/cuda/cuda_gpu_executor.cc:937] successful NUMA node read from SysFS had negative value (-1), but there must be at least one NUMA node, so returning NUMA node zero\n",
      "2023-01-28 18:12:43.393582: I tensorflow/stream_executor/cuda/cuda_gpu_executor.cc:937] successful NUMA node read from SysFS had negative value (-1), but there must be at least one NUMA node, so returning NUMA node zero\n",
      "2023-01-28 18:12:43.394466: I tensorflow/stream_executor/cuda/cuda_gpu_executor.cc:937] successful NUMA node read from SysFS had negative value (-1), but there must be at least one NUMA node, so returning NUMA node zero\n",
      "2023-01-28 18:12:43.395125: I tensorflow/stream_executor/cuda/cuda_gpu_executor.cc:937] successful NUMA node read from SysFS had negative value (-1), but there must be at least one NUMA node, so returning NUMA node zero\n",
      "2023-01-28 18:12:43.395708: I tensorflow/core/common_runtime/gpu/gpu_device.cc:1510] Created device /job:localhost/replica:0/task:0/device:GPU:0 with 15401 MB memory:  -> device: 0, name: Tesla P100-PCIE-16GB, pci bus id: 0000:00:04.0, compute capability: 6.0\n"
     ]
    }
   ],
   "source": [
    "import tensorflow as tf \n",
    "from tensorflow import keras as ks\n",
    "\n",
    "mnist_fashion = ks.datasets.fashion_mnist\n",
    "(training_images, training_labels), (test_images, test_labels) = mnist_fashion.load_data()\n",
    "\n",
    "# Scale values\n",
    "training_images = training_images / 255.0\n",
    "test_images = test_images / 255.0\n",
    "\n",
    "training_images = training_images.reshape((60000, 28, 28, 1))\n",
    "test_images = test_images.reshape((10000, 28, 28, 1))\n",
    "\n",
    "\n",
    "print('Training Dataset Shape: {}'.format(training_images.shape))\n",
    "print('No. of Training Dataset Labels: {}'.format(len(training_labels)))\n",
    "print('Test Dataset Shape: {}'.format(test_images.shape))\n",
    "print('No. of Test Dataset Labels: {}'.format(len(test_labels)))\n",
    "\n",
    "cnn_model = ks.models.Sequential()\n",
    "\n",
    "# Instruction\n",
    "# # Write model here\n",
    "# 1. Create a Model\n",
    "# 2. Compile the model\n",
    "# 3. Show the Model Summary\n",
    "# 4. Fit the model"
   ]
  },
  {
   "cell_type": "markdown",
   "id": "dfe2fad0",
   "metadata": {
    "papermill": {
     "duration": 0.003519,
     "end_time": "2023-01-28T18:12:43.782395",
     "exception": false,
     "start_time": "2023-01-28T18:12:43.778876",
     "status": "completed"
    },
    "tags": []
   },
   "source": [
    "# writing  the model"
   ]
  },
  {
   "cell_type": "markdown",
   "id": "45f412ea",
   "metadata": {
    "papermill": {
     "duration": 0.003293,
     "end_time": "2023-01-28T18:12:43.789143",
     "exception": false,
     "start_time": "2023-01-28T18:12:43.785850",
     "status": "completed"
    },
    "tags": []
   },
   "source": [
    "# 1. Creating the model"
   ]
  },
  {
   "cell_type": "code",
   "execution_count": 3,
   "id": "fe86e58a",
   "metadata": {
    "execution": {
     "iopub.execute_input": "2023-01-28T18:12:43.798557Z",
     "iopub.status.busy": "2023-01-28T18:12:43.797366Z",
     "iopub.status.idle": "2023-01-28T18:12:43.845837Z",
     "shell.execute_reply": "2023-01-28T18:12:43.844967Z"
    },
    "papermill": {
     "duration": 0.055265,
     "end_time": "2023-01-28T18:12:43.848008",
     "exception": false,
     "start_time": "2023-01-28T18:12:43.792743",
     "status": "completed"
    },
    "tags": []
   },
   "outputs": [],
   "source": [
    "cnn_model =ks.models.Sequential()\n",
    "cnn_model.add(ks.layers.Conv2D(50,(3, 3), activation='relu', input_shape=(28, 28, 1), name='Conv2D_layer'))"
   ]
  },
  {
   "cell_type": "markdown",
   "id": "fc329941",
   "metadata": {
    "papermill": {
     "duration": 0.003541,
     "end_time": "2023-01-28T18:12:43.855328",
     "exception": false,
     "start_time": "2023-01-28T18:12:43.851787",
     "status": "completed"
    },
    "tags": []
   },
   "source": [
    "# 2. Compiling the Model"
   ]
  },
  {
   "cell_type": "code",
   "execution_count": 4,
   "id": "328e2811",
   "metadata": {
    "execution": {
     "iopub.execute_input": "2023-01-28T18:12:43.866464Z",
     "iopub.status.busy": "2023-01-28T18:12:43.865442Z",
     "iopub.status.idle": "2023-01-28T18:12:43.879387Z",
     "shell.execute_reply": "2023-01-28T18:12:43.878287Z"
    },
    "papermill": {
     "duration": 0.02535,
     "end_time": "2023-01-28T18:12:43.884251",
     "exception": false,
     "start_time": "2023-01-28T18:12:43.858901",
     "status": "completed"
    },
    "tags": []
   },
   "outputs": [],
   "source": [
    "cnn_model.add(ks.layers.MaxPooling2D((2, 2), name='Maxpooling_2D'))"
   ]
  },
  {
   "cell_type": "code",
   "execution_count": 5,
   "id": "262ffd90",
   "metadata": {
    "execution": {
     "iopub.execute_input": "2023-01-28T18:12:43.905363Z",
     "iopub.status.busy": "2023-01-28T18:12:43.903694Z",
     "iopub.status.idle": "2023-01-28T18:12:43.942432Z",
     "shell.execute_reply": "2023-01-28T18:12:43.941247Z"
    },
    "papermill": {
     "duration": 0.05271,
     "end_time": "2023-01-28T18:12:43.945163",
     "exception": false,
     "start_time": "2023-01-28T18:12:43.892453",
     "status": "completed"
    },
    "tags": []
   },
   "outputs": [],
   "source": [
    "cnn_model.add(ks.layers.Flatten(name='Flatten'))\n",
    "cnn_model.add(ks.layers.Dense(50, activation='relu',name='Hidden_layer'))\n",
    "cnn_model.add(ks.layers.Dense(10, activation='softmax',name='Output_layer'))"
   ]
  },
  {
   "cell_type": "markdown",
   "id": "55b9d0fd",
   "metadata": {
    "papermill": {
     "duration": 0.005053,
     "end_time": "2023-01-28T18:12:43.955136",
     "exception": false,
     "start_time": "2023-01-28T18:12:43.950083",
     "status": "completed"
    },
    "tags": []
   },
   "source": [
    "# 3. Showing the model summary"
   ]
  },
  {
   "cell_type": "code",
   "execution_count": 6,
   "id": "114baef3",
   "metadata": {
    "execution": {
     "iopub.execute_input": "2023-01-28T18:12:43.966917Z",
     "iopub.status.busy": "2023-01-28T18:12:43.966561Z",
     "iopub.status.idle": "2023-01-28T18:12:43.975603Z",
     "shell.execute_reply": "2023-01-28T18:12:43.973499Z"
    },
    "papermill": {
     "duration": 0.019838,
     "end_time": "2023-01-28T18:12:43.980026",
     "exception": false,
     "start_time": "2023-01-28T18:12:43.960188",
     "status": "completed"
    },
    "tags": []
   },
   "outputs": [
    {
     "name": "stdout",
     "output_type": "stream",
     "text": [
      "Model: \"sequential_1\"\n",
      "_________________________________________________________________\n",
      "Layer (type)                 Output Shape              Param #   \n",
      "=================================================================\n",
      "Conv2D_layer (Conv2D)        (None, 26, 26, 50)        500       \n",
      "_________________________________________________________________\n",
      "Maxpooling_2D (MaxPooling2D) (None, 13, 13, 50)        0         \n",
      "_________________________________________________________________\n",
      "Flatten (Flatten)            (None, 8450)              0         \n",
      "_________________________________________________________________\n",
      "Hidden_layer (Dense)         (None, 50)                422550    \n",
      "_________________________________________________________________\n",
      "Output_layer (Dense)         (None, 10)                510       \n",
      "=================================================================\n",
      "Total params: 423,560\n",
      "Trainable params: 423,560\n",
      "Non-trainable params: 0\n",
      "_________________________________________________________________\n"
     ]
    }
   ],
   "source": [
    "cnn_model.summary()"
   ]
  },
  {
   "cell_type": "code",
   "execution_count": 7,
   "id": "b3ad3d3c",
   "metadata": {
    "execution": {
     "iopub.execute_input": "2023-01-28T18:12:43.994300Z",
     "iopub.status.busy": "2023-01-28T18:12:43.993980Z",
     "iopub.status.idle": "2023-01-28T18:12:44.006205Z",
     "shell.execute_reply": "2023-01-28T18:12:44.005379Z"
    },
    "papermill": {
     "duration": 0.022117,
     "end_time": "2023-01-28T18:12:44.008163",
     "exception": false,
     "start_time": "2023-01-28T18:12:43.986046",
     "status": "completed"
    },
    "tags": []
   },
   "outputs": [],
   "source": [
    "cnn_model.compile(optimizer='adam', loss='sparse_categorical_crossentropy', metrics=['accuracy'])"
   ]
  },
  {
   "cell_type": "markdown",
   "id": "3fd17e27",
   "metadata": {
    "papermill": {
     "duration": 0.003494,
     "end_time": "2023-01-28T18:12:44.015568",
     "exception": false,
     "start_time": "2023-01-28T18:12:44.012074",
     "status": "completed"
    },
    "tags": []
   },
   "source": [
    "# 4. Fit The model"
   ]
  },
  {
   "cell_type": "code",
   "execution_count": 8,
   "id": "734894bc",
   "metadata": {
    "execution": {
     "iopub.execute_input": "2023-01-28T18:12:44.024524Z",
     "iopub.status.busy": "2023-01-28T18:12:44.024268Z",
     "iopub.status.idle": "2023-01-28T18:15:07.230738Z",
     "shell.execute_reply": "2023-01-28T18:15:07.229788Z"
    },
    "papermill": {
     "duration": 143.213653,
     "end_time": "2023-01-28T18:15:07.232901",
     "exception": false,
     "start_time": "2023-01-28T18:12:44.019248",
     "status": "completed"
    },
    "tags": []
   },
   "outputs": [
    {
     "name": "stderr",
     "output_type": "stream",
     "text": [
      "2023-01-28 18:12:44.712793: I tensorflow/compiler/mlir/mlir_graph_optimization_pass.cc:185] None of the MLIR Optimization Passes are enabled (registered 2)\n"
     ]
    },
    {
     "name": "stdout",
     "output_type": "stream",
     "text": [
      "Epoch 1/30\n"
     ]
    },
    {
     "name": "stderr",
     "output_type": "stream",
     "text": [
      "2023-01-28 18:12:46.214905: I tensorflow/stream_executor/cuda/cuda_dnn.cc:369] Loaded cuDNN version 8005\n"
     ]
    },
    {
     "name": "stdout",
     "output_type": "stream",
     "text": [
      "1875/1875 [==============================] - 11s 2ms/step - loss: 0.4066 - accuracy: 0.8557\n",
      "Epoch 2/30\n",
      "1875/1875 [==============================] - 4s 2ms/step - loss: 0.2782 - accuracy: 0.9004\n",
      "Epoch 3/30\n",
      "1875/1875 [==============================] - 4s 2ms/step - loss: 0.2366 - accuracy: 0.9143\n",
      "Epoch 4/30\n",
      "1875/1875 [==============================] - 4s 2ms/step - loss: 0.2081 - accuracy: 0.9233\n",
      "Epoch 5/30\n",
      "1875/1875 [==============================] - 4s 2ms/step - loss: 0.1831 - accuracy: 0.9324\n",
      "Epoch 6/30\n",
      "1875/1875 [==============================] - 4s 2ms/step - loss: 0.1620 - accuracy: 0.9403\n",
      "Epoch 7/30\n",
      "1875/1875 [==============================] - 5s 2ms/step - loss: 0.1423 - accuracy: 0.9475\n",
      "Epoch 8/30\n",
      "1875/1875 [==============================] - 4s 2ms/step - loss: 0.1283 - accuracy: 0.9524\n",
      "Epoch 9/30\n",
      "1875/1875 [==============================] - 4s 2ms/step - loss: 0.1129 - accuracy: 0.9587\n",
      "Epoch 10/30\n",
      "1875/1875 [==============================] - 4s 2ms/step - loss: 0.1019 - accuracy: 0.9624\n",
      "Epoch 11/30\n",
      "1875/1875 [==============================] - 4s 2ms/step - loss: 0.0904 - accuracy: 0.9661\n",
      "Epoch 12/30\n",
      "1875/1875 [==============================] - 4s 2ms/step - loss: 0.0796 - accuracy: 0.9708\n",
      "Epoch 13/30\n",
      "1875/1875 [==============================] - 4s 2ms/step - loss: 0.0704 - accuracy: 0.9744\n",
      "Epoch 14/30\n",
      "1875/1875 [==============================] - 4s 2ms/step - loss: 0.0648 - accuracy: 0.9760\n",
      "Epoch 15/30\n",
      "1875/1875 [==============================] - 4s 2ms/step - loss: 0.0561 - accuracy: 0.9798\n",
      "Epoch 16/30\n",
      "1875/1875 [==============================] - 4s 2ms/step - loss: 0.0524 - accuracy: 0.9805\n",
      "Epoch 17/30\n",
      "1875/1875 [==============================] - 4s 2ms/step - loss: 0.0447 - accuracy: 0.9840\n",
      "Epoch 18/30\n",
      "1875/1875 [==============================] - 4s 2ms/step - loss: 0.0420 - accuracy: 0.9847\n",
      "Epoch 19/30\n",
      "1875/1875 [==============================] - 4s 2ms/step - loss: 0.0366 - accuracy: 0.9875\n",
      "Epoch 20/30\n",
      "1875/1875 [==============================] - 4s 2ms/step - loss: 0.0366 - accuracy: 0.9875\n",
      "Epoch 21/30\n",
      "1875/1875 [==============================] - 4s 2ms/step - loss: 0.0311 - accuracy: 0.9892\n",
      "Epoch 22/30\n",
      "1875/1875 [==============================] - 4s 2ms/step - loss: 0.0297 - accuracy: 0.9894\n",
      "Epoch 23/30\n",
      "1875/1875 [==============================] - 4s 2ms/step - loss: 0.0284 - accuracy: 0.9900\n",
      "Epoch 24/30\n",
      "1875/1875 [==============================] - 4s 2ms/step - loss: 0.0241 - accuracy: 0.9914\n",
      "Epoch 25/30\n",
      "1875/1875 [==============================] - 4s 2ms/step - loss: 0.0256 - accuracy: 0.9915\n",
      "Epoch 26/30\n",
      "1875/1875 [==============================] - 4s 2ms/step - loss: 0.0224 - accuracy: 0.9923\n",
      "Epoch 27/30\n",
      "1875/1875 [==============================] - 4s 2ms/step - loss: 0.0236 - accuracy: 0.9919\n",
      "Epoch 28/30\n",
      "1875/1875 [==============================] - 4s 2ms/step - loss: 0.0200 - accuracy: 0.9930\n",
      "Epoch 29/30\n",
      "1875/1875 [==============================] - 4s 2ms/step - loss: 0.0214 - accuracy: 0.9924\n",
      "Epoch 30/30\n",
      "1875/1875 [==============================] - 4s 2ms/step - loss: 0.0194 - accuracy: 0.9930\n"
     ]
    },
    {
     "data": {
      "text/plain": [
       "<keras.callbacks.History at 0x7f5332b761d0>"
      ]
     },
     "execution_count": 8,
     "metadata": {},
     "output_type": "execute_result"
    }
   ],
   "source": [
    "cnn_model.fit(training_images,\n",
    "              training_labels,\n",
    "              epochs=30)"
   ]
  }
 ],
 "metadata": {
  "kernelspec": {
   "display_name": "Python 3",
   "language": "python",
   "name": "python3"
  },
  "language_info": {
   "codemirror_mode": {
    "name": "ipython",
    "version": 3
   },
   "file_extension": ".py",
   "mimetype": "text/x-python",
   "name": "python",
   "nbconvert_exporter": "python",
   "pygments_lexer": "ipython3",
   "version": "3.7.12"
  },
  "papermill": {
   "default_parameters": {},
   "duration": 164.430438,
   "end_time": "2023-01-28T18:15:10.939135",
   "environment_variables": {},
   "exception": null,
   "input_path": "__notebook__.ipynb",
   "output_path": "__notebook__.ipynb",
   "parameters": {},
   "start_time": "2023-01-28T18:12:26.508697",
   "version": "2.3.4"
  }
 },
 "nbformat": 4,
 "nbformat_minor": 5
}
